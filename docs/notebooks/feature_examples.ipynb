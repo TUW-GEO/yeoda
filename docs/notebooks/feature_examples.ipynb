{
 "cells": [
  {
   "cell_type": "markdown",
   "source": [
    "# Examples\n",
    "\n",
    "The following examples shall help to understand what the package is able to accomplish and how you can use the interface yeoda offers to access and play around with your data."
   ],
   "metadata": {
    "collapsed": false,
    "pycharm": {
     "name": "#%% md\n"
    }
   }
  }
 ],
 "metadata": {
  "kernelspec": {
   "display_name": "Python 3",
   "language": "python",
   "name": "python3"
  },
  "language_info": {
   "codemirror_mode": {
    "name": "ipython",
    "version": 2
   },
   "file_extension": ".py",
   "mimetype": "text/x-python",
   "name": "python",
   "nbconvert_exporter": "python",
   "pygments_lexer": "ipython2",
   "version": "2.7.6"
  }
 },
 "nbformat": 4,
 "nbformat_minor": 0
}